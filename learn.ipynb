{
 "cells": [
  {
   "cell_type": "code",
   "execution_count": 2,
   "metadata": {},
   "outputs": [
    {
     "name": "stderr",
     "output_type": "stream",
     "text": [
      "/tmp/ipykernel_53440/2690819796.py:5: DtypeWarning: Columns (15,18,20,23,53,61,62,63,72,74,79,91,93,109,130,143,175,178) have mixed types. Specify dtype option on import or set low_memory=False.\n",
      "  INFLUD = pd.read_csv(FILE, sep=';')\n"
     ]
    }
   ],
   "source": [
    "import pandas as pd\n",
    "\n",
    "FILE = \"INFLUD23-17-06-2024.csv\"\n",
    "\n",
    "INFLUD = pd.read_csv(FILE, sep=';')\n",
    "POPULATION = pd.read_csv(\"StatePopulation.csv\")\n",
    "POPULATION.drop(columns=[\"STATE\"], inplace=True)"
   ]
  },
  {
   "cell_type": "code",
   "execution_count": 8,
   "metadata": {},
   "outputs": [
    {
     "data": {
      "text/html": [
       "<div>\n",
       "<style scoped>\n",
       "    .dataframe tbody tr th:only-of-type {\n",
       "        vertical-align: middle;\n",
       "    }\n",
       "\n",
       "    .dataframe tbody tr th {\n",
       "        vertical-align: top;\n",
       "    }\n",
       "\n",
       "    .dataframe thead th {\n",
       "        text-align: right;\n",
       "    }\n",
       "</style>\n",
       "<table border=\"1\" class=\"dataframe\">\n",
       "  <thead>\n",
       "    <tr style=\"text-align: right;\">\n",
       "      <th></th>\n",
       "      <th>DOF_NOTIFIC</th>\n",
       "      <th>UF</th>\n",
       "      <th>RISK</th>\n",
       "    </tr>\n",
       "  </thead>\n",
       "  <tbody>\n",
       "    <tr>\n",
       "      <th>0</th>\n",
       "      <td>1</td>\n",
       "      <td>0</td>\n",
       "      <td>0.043576</td>\n",
       "    </tr>\n",
       "    <tr>\n",
       "      <th>1</th>\n",
       "      <td>32</td>\n",
       "      <td>0</td>\n",
       "      <td>0.109586</td>\n",
       "    </tr>\n",
       "    <tr>\n",
       "      <th>2</th>\n",
       "      <td>60</td>\n",
       "      <td>0</td>\n",
       "      <td>0.043576</td>\n",
       "    </tr>\n",
       "    <tr>\n",
       "      <th>3</th>\n",
       "      <td>91</td>\n",
       "      <td>0</td>\n",
       "      <td>0.109586</td>\n",
       "    </tr>\n",
       "    <tr>\n",
       "      <th>4</th>\n",
       "      <td>121</td>\n",
       "      <td>0</td>\n",
       "      <td>0.131589</td>\n",
       "    </tr>\n",
       "    <tr>\n",
       "      <th>...</th>\n",
       "      <td>...</td>\n",
       "      <td>...</td>\n",
       "      <td>...</td>\n",
       "    </tr>\n",
       "    <tr>\n",
       "      <th>9890</th>\n",
       "      <td>31</td>\n",
       "      <td>26</td>\n",
       "      <td>0.049226</td>\n",
       "    </tr>\n",
       "    <tr>\n",
       "      <th>9891</th>\n",
       "      <td>90</td>\n",
       "      <td>26</td>\n",
       "      <td>0.036812</td>\n",
       "    </tr>\n",
       "    <tr>\n",
       "      <th>9892</th>\n",
       "      <td>151</td>\n",
       "      <td>26</td>\n",
       "      <td>0.111298</td>\n",
       "    </tr>\n",
       "    <tr>\n",
       "      <th>9893</th>\n",
       "      <td>212</td>\n",
       "      <td>26</td>\n",
       "      <td>0.049226</td>\n",
       "    </tr>\n",
       "    <tr>\n",
       "      <th>9894</th>\n",
       "      <td>243</td>\n",
       "      <td>26</td>\n",
       "      <td>0.024398</td>\n",
       "    </tr>\n",
       "  </tbody>\n",
       "</table>\n",
       "<p>9895 rows × 3 columns</p>\n",
       "</div>"
      ],
      "text/plain": [
       "      DOF_NOTIFIC  UF      RISK\n",
       "0               1   0  0.043576\n",
       "1              32   0  0.109586\n",
       "2              60   0  0.043576\n",
       "3              91   0  0.109586\n",
       "4             121   0  0.131589\n",
       "...           ...  ..       ...\n",
       "9890           31  26  0.049226\n",
       "9891           90  26  0.036812\n",
       "9892          151  26  0.111298\n",
       "9893          212  26  0.049226\n",
       "9894          243  26  0.024398\n",
       "\n",
       "[9895 rows x 3 columns]"
      ]
     },
     "execution_count": 8,
     "metadata": {},
     "output_type": "execute_result"
    }
   ],
   "source": [
    "import pickle\n",
    "from sklearn.preprocessing import MinMaxScaler, QuantileTransformer, LabelEncoder\n",
    "\n",
    "df = INFLUD.copy() \n",
    "\n",
    "# Filtra apenas os casos confirmados\n",
    "df = df[df[\"CLASSI_FIN\"].notna()]\n",
    "\n",
    "# Agrupa por estado e data de notificação e conta o número de casos\n",
    "df = df.groupby([\"SG_UF_NOT\", \"DT_NOTIFIC\"]).size().reset_index(name=\"CNT\")\n",
    "\n",
    "# Converte a data de notificação para o dia do ano\n",
    "df[\"DOF_NOTIFIC\"] = pd.to_datetime(df[\"DT_NOTIFIC\"], format=\"%d/%m/%Y\").dt.dayofyear\n",
    "df.drop(columns=\"DT_NOTIFIC\", inplace=True)\n",
    "\n",
    "\n",
    "# Adiciona a população de cada estado\n",
    "df = df.merge(POPULATION, left_on=\"SG_UF_NOT\", right_on=\"UF\")\n",
    "df.drop(columns=[\"SG_UF_NOT\"], inplace=True)\n",
    "\n",
    "# Converte UF para numeral\n",
    "uf_encoder = LabelEncoder()\n",
    "df[\"UF\"] = uf_encoder.fit_transform(df[\"UF\"])\n",
    "with open(\"encoders/uf.pickle\", 'wb') as file:\n",
    "    pickle.dump(uf_encoder, file, pickle.HIGHEST_PROTOCOL)\n",
    "\n",
    "# risk_scaler = QuantileTransformer()\n",
    "risk_scaler = MinMaxScaler()\n",
    "df[\"RISK\"] = df[\"CNT\"] / df[\"POPULATION\"]\n",
    "df[\"RISK\"] = risk_scaler.fit_transform(df[[\"RISK\"]])\n",
    "\n",
    "df.drop(columns=[\"CNT\", \"POPULATION\"], inplace=True)\n",
    "\n",
    "df"
   ]
  },
  {
   "cell_type": "code",
   "execution_count": 4,
   "metadata": {},
   "outputs": [
    {
     "data": {
      "text/plain": [
       "np.float64(0.05165227219032609)"
      ]
     },
     "execution_count": 4,
     "metadata": {},
     "output_type": "execute_result"
    }
   ],
   "source": [
    "import joblib\n",
    "from sklearn.model_selection import train_test_split\n",
    "from sklearn.linear_model import LinearRegression\n",
    "from sklearn.metrics import mean_absolute_error\n",
    "\n",
    "X = df[[\"DOF_NOTIFIC\", \"UF\"]]\n",
    "Y = df[\"RISK\"]\n",
    "\n",
    "X_train, X_test, Y_train, Y_test = train_test_split(X, Y, test_size=0.2, random_state=42)\n",
    "\n",
    "linear_regression = LinearRegression()\n",
    "linear_regression.fit(X_train, Y_train)\n",
    "\n",
    "Y_pred = linear_regression.predict(X_test)\n",
    "\n",
    "joblib.dump(linear_regression, \"models/linear_regression.pkl\")\n",
    "mean_absolute_error(Y_test, Y_pred)"
   ]
  },
  {
   "cell_type": "code",
   "execution_count": 21,
   "metadata": {},
   "outputs": [
    {
     "name": "stderr",
     "output_type": "stream",
     "text": [
      "/home/kauan/Documents/Uni/machine-learning-abp/.venv/lib/python3.12/site-packages/sklearn/base.py:493: UserWarning: X does not have valid feature names, but LinearRegression was fitted with feature names\n",
      "  warnings.warn(\n"
     ]
    },
    {
     "data": {
      "text/plain": [
       "array([0.05457491])"
      ]
     },
     "execution_count": 21,
     "metadata": {},
     "output_type": "execute_result"
    }
   ],
   "source": [
    "date = pd.to_datetime(\"16/06/2024\", format=\"%d/%m/%Y\").dayofyear\n",
    "uf = uf_encoder.transform([\"SP\"])[0]\n",
    "\n",
    "y = linear_regression.predict([[date, uf]])\n",
    "y"
   ]
  }
 ],
 "metadata": {
  "kernelspec": {
   "display_name": ".venv",
   "language": "python",
   "name": "python3"
  },
  "language_info": {
   "codemirror_mode": {
    "name": "ipython",
    "version": 3
   },
   "file_extension": ".py",
   "mimetype": "text/x-python",
   "name": "python",
   "nbconvert_exporter": "python",
   "pygments_lexer": "ipython3",
   "version": "3.12.4"
  }
 },
 "nbformat": 4,
 "nbformat_minor": 2
}
